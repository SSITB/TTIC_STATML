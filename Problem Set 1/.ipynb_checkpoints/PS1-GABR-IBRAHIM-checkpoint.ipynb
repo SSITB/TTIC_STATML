{
 "cells": [
  {
   "cell_type": "markdown",
   "metadata": {},
   "source": [
    "# Problem set 1, Asymmetric loss regression"
   ]
  },
  {
   "cell_type": "markdown",
   "metadata": {},
   "source": [
    "First, Let's load the data and plot the training data out."
   ]
  },
  {
   "cell_type": "code",
   "execution_count": 1,
   "metadata": {
    "scrolled": true
   },
   "outputs": [
    {
     "data": {
      "text/plain": [
       "[<matplotlib.lines.Line2D at 0x4b3fb70>]"
      ]
     },
     "execution_count": 1,
     "metadata": {},
     "output_type": "execute_result"
    },
    {
     "data": {
      "image/png": "[encoded data removed]",
      "text/plain": [
       "<matplotlib.figure.Figure at 0x7530c88>"
      ]
     },
     "metadata": {},
     "output_type": "display_data"
    }
   ],
   "source": [
    "%matplotlib inline\n",
    "import numpy as np\n",
    "import matplotlib.pyplot as plt\n",
    "\n",
    "\n",
    "# Load data\n",
    "dataTrain=np.loadtxt('housing-train.txt')\n",
    "dataVal=np.loadtxt('housing-val.txt')\n",
    "\n",
    "X_train=(dataTrain[:,np.newaxis,0])\n",
    "y_train=dataTrain[:,1]\n",
    "X_val=dataVal[:,np.newaxis,0]\n",
    "y_val=dataVal[:,1]\n",
    "\n",
    "plt.plot(X_train, y_train, 'k.')\n",
    "plt.plot(X_val, y_val, 'b.')\n"
   ]
  },
  {
   "cell_type": "markdown",
   "metadata": {},
   "source": [
    "First, we will solve the linear regression (under the \"normal\" symmetric squared loss) using the closed form solution. Let's define a couple of functions we will need."
   ]
  },
  {
   "cell_type": "code",
   "execution_count": 2,
   "metadata": {
    "collapsed": true
   },
   "outputs": [],
   "source": [
    "def symmLoss(X, w ,y):\n",
    "    \"\"\"\n",
    "    Get the symmetric squared loss given data X, weight w and ground truth y\n",
    "\n",
    "    Parameters\n",
    "    ----------\n",
    "    X : 2D array\n",
    "        N x d+1 data matrix (row per example)\n",
    "    w : 1D array\n",
    "        d+1 length vector\n",
    "    y : 1D array\n",
    "        Observed function values\n",
    "\n",
    "    Returns\n",
    "    -------\n",
    "    loss : a scalar\n",
    "        The loss calculated by the symmetric loss formula\n",
    "    \"\"\"\n",
    "    return np.mean((np.dot(X, w) - y)**2)"
   ]
  },
  {
   "cell_type": "markdown",
   "metadata": {},
   "source": [
    "Note that the loss we have defined is the normalized squared loss"
   ]
  },
  {
   "cell_type": "code",
   "execution_count": 3,
   "metadata": {
    "collapsed": true
   },
   "outputs": [],
   "source": [
    "def lsqClosedForm(X, y):\n",
    "    \"\"\"\n",
    "    Use closed form solution for least squares minimization\n",
    "\n",
    "    Parameters\n",
    "    ----------\n",
    "    X : 2D array\n",
    "        N x d+1 data matrix (row per example)\n",
    "    y : 1D array\n",
    "        Observed function values\n",
    "\n",
    "    Returns\n",
    "    -------\n",
    "    w : 1D array\n",
    "        d+1 length vector\n",
    "    \"\"\"\n",
    "    return np.dot(np.linalg.pinv(X), y)"
   ]
  },
  {
   "cell_type": "markdown",
   "metadata": {},
   "source": [
    "Test the closed form solution: generate a toy data set from a random linear function with no noise. We should be able to perfectly recover w in this case (up to numerical precision)."
   ]
  },
  {
   "cell_type": "code",
   "execution_count": 4,
   "metadata": {},
   "outputs": [
    {
     "name": "stdout",
     "output_type": "stream",
     "text": [
      "true weight:  array([ 0.40659162,  0.6030572 ])\n",
      "function output: array([ 0.40659162,  0.6030572 ])\n",
      "Close enough\n"
     ]
    }
   ],
   "source": [
    "X = np.hstack((np.ones([20,1]),np.random.random((20,1))))\n",
    "w = np.random.random((2))\n",
    "y = np.dot(X,w)\n",
    "print('true weight:  '+repr(w))\n",
    "w_ = lsqClosedForm(X, y)\n",
    "print('function output: '+repr(w_))\n",
    "if (np.allclose(w,w_)):\n",
    "    print('Close enough')\n",
    "else:\n",
    "    print('Uh-oh')"
   ]
  },
  {
   "cell_type": "markdown",
   "metadata": {},
   "source": [
    "The function to estimate the variance of the noise and the log likelihood of the data."
   ]
  },
  {
   "cell_type": "code",
   "execution_count": 5,
   "metadata": {
    "collapsed": true
   },
   "outputs": [],
   "source": [
    "def logLikelihood(X, w, y):\n",
    "    \"\"\"\n",
    "    Get the estimated variance, and the log likelihood of the data\n",
    "\n",
    "    Parameters\n",
    "    ----------\n",
    "    X : 2D array\n",
    "        N x d+1 design matrix (row per example)\n",
    "    w : 1D array\n",
    "        d+1 length vector\n",
    "    y : 1D array\n",
    "        Observed function values\n",
    "\n",
    "    Returns\n",
    "    -------\n",
    "    simga2 : a scalar\n",
    "        The estimated variance (sigma squared)\n",
    "    loglike : a scalar\n",
    "        The log-likelihood under the Gaussian noise model N(0,sigma2)\n",
    "    \"\"\"\n",
    "    N = X.shape[0]   # number of rows in X\n",
    "    # now estimate the variance of the Gaussian noise\n",
    "    sigma2 = np.mean((np.dot(X, w) - y)**2)\n",
    "    # normalized log-likelihood (mean of per-data point log-likelihood of the model given by w,sigma2)\n",
    "    loglike = - 1 / 2.0 * np.log(2*np.pi*sigma2) - np.mean((np.dot(X, w) - y)**2) / (sigma2 * 2)\n",
    "    return sigma2, loglike"
   ]
  },
  {
   "cell_type": "markdown",
   "metadata": {},
   "source": [
    "Now let's fit linear, quadratic and cubic models to the training data, and plot the fit function. First we need to define the function that will map the original input to an expanded feature vector (including the constant term)."
   ]
  },
  {
   "cell_type": "code",
   "execution_count": 6,
   "metadata": {
    "collapsed": true
   },
   "outputs": [],
   "source": [
    "def degexpand(X, deg, C=None):\n",
    "    \"\"\"\n",
    "    Prepares data matrix with a column of ones and polynomials of specified\n",
    "    degree.\n",
    "\n",
    "    Parameters\n",
    "    ----------\n",
    "    X : 2D array\n",
    "        n x d data matrix (row per example)\n",
    "    deg : integer\n",
    "        Degree of polynomial\n",
    "    C : 1D array\n",
    "        Scaling weights. If not specifed, weights are calculated to fit each\n",
    "        columns of X in [-1, 1].\n",
    "        Note: It is shown in problem set 1 that this normalization does\n",
    "        not affect linear regression, as long as it is applied\n",
    "        consistently to training *and* test data.\n",
    "\n",
    "    Returns\n",
    "    -------\n",
    "    out_X : 2D array\n",
    "        n x (2 * d + 1) data matrix (row per example)\n",
    "        The output is arranged as follows:\n",
    "            - X[:, 0] is all ones\n",
    "            - X[:, 1] is x_1\n",
    "            - X[:, 2] is x_1^2\n",
    "            - ...\n",
    "            - X[:, deg] is x_1^deg\n",
    "            - X[:, deg+1] is x_2\n",
    "            - X[:, deg+2] is x_2^2\n",
    "            - etc.\n",
    "    C : 1D array\n",
    "        Scaling weights that were used. Can be used in scaling other data later in the same way.\n",
    "    \"\"\"\n",
    "    assert X.ndim == 2\n",
    "    n, m = X.shape\n",
    "\n",
    "    # Make polynomials\n",
    "    out_X = (X[..., np.newaxis] ** (1. + np.arange(deg))).reshape(n, -1)\n",
    "\n",
    "    # Add column of ones\n",
    "    out_X = np.concatenate([np.ones((out_X.shape[0], 1)), out_X], axis=1)\n",
    "\n",
    "    if C is None:\n",
    "        C = abs(out_X).max(axis=0)\n",
    "    else:\n",
    "        assert np.shape(C) == (out_X.shape[1],), \"C must match outgoing matrix\"\n",
    "\n",
    "    out_X /= C # divide dimension-wise\n",
    "    return out_X, C\n"
   ]
  },
  {
   "cell_type": "code",
   "execution_count": 7,
   "metadata": {},
   "outputs": [
    {
     "name": "stdout",
     "output_type": "stream",
     "text": [
      "degree 1:\n",
      "train loss 40.092548\n",
      "val loss 40.234920\n",
      "sigma^2: 40.092548 \n",
      "log-likelihood -3.264534\n",
      "\n",
      "degree 2:\n",
      "train loss 31.626032\n",
      "val loss 31.727872\n",
      "sigma^2: 31.626032 \n",
      "log-likelihood -3.145929\n",
      "\n",
      "degree 3:\n",
      "train loss 30.350771\n",
      "val loss 31.246330\n",
      "sigma^2: 30.350771 \n",
      "log-likelihood -3.125349\n",
      "\n",
      "degree 5:\n",
      "train loss 27.407330\n",
      "val loss 31.274918\n",
      "sigma^2: 27.407330 \n",
      "log-likelihood -3.074344\n",
      "\n"
     ]
    },
    {
     "data": {
      "text/plain": [
       "<matplotlib.legend.Legend at 0x81416d8>"
      ]
     },
     "execution_count": 7,
     "metadata": {},
     "output_type": "execute_result"
    },
    {
     "data": {
      "image/png": "[encoded data removed]",
      "text/plain": [
       "<matplotlib.figure.Figure at 0x80cc9e8>"
      ]
     },
     "metadata": {},
     "output_type": "display_data"
    }
   ],
   "source": [
    "min_loss = np.Inf\n",
    "plt.plot(X_train, y_train, 'k.')\n",
    "\n",
    "# Try different polynomial degrees\n",
    "for deg in [1,2,3,5]:\n",
    "    # Expand data first; you can check how this function works in utils.py\n",
    "    X, C = degexpand(X_train, deg)\n",
    "    y = y_train\n",
    "    \n",
    "    # Get the result by applying normal equation\n",
    "    w = lsqClosedForm(X, y)\n",
    "    \n",
    "    # compute loss on training\n",
    "    loss = symmLoss(X, w, y)\n",
    "    \n",
    "    # compute loss on val; note -- use the same scaling matrix C as for training\n",
    "    val_loss = symmLoss(degexpand(X_val, deg, C)[0], w, y_val)\n",
    "    print('degree %d:' %(deg))\n",
    "    print('train loss %.6f' %(loss))\n",
    "    print('val loss %.6f' %(val_loss))\n",
    "    print('sigma^2: %.6f \\nlog-likelihood %.6f\\n' %logLikelihood(X, w, y))\n",
    "    \n",
    "    if val_loss < min_loss:\n",
    "        min_loss = val_loss\n",
    "        # record in best_param (0) the model weights, (1) degree, and (2) the scaling matrix of the best model so far\n",
    "        best_param = (w, deg, C)\n",
    "    \n",
    "    # Plot the function\n",
    "    color = {1:'b', 2:'g', 3:'r', 5:'c'}[deg]\n",
    "    plt.plot(np.linspace(min(X_train)-.1,max(X_train)+.1), np.dot(degexpand(np.linspace(min(X_train)-.1,max(X_train)+.1).reshape((50, 1)), deg, C)[0], w), color,label='deg'+str(deg))\n",
    "\n",
    "axes = plt.gca()\n",
    "axes.set_xlim([0,40])\n",
    "axes.set_ylim([0,55])\n",
    "plt.legend(bbox_to_anchor=(1.05, 1), loc=2, borderaxespad=0.)"
   ]
  },
  {
   "cell_type": "code",
   "execution_count": 8,
   "metadata": {},
   "outputs": [
    {
     "name": "stdout",
     "output_type": "stream",
     "text": [
      "Best degree:3, loss (sym) on val:\n",
      "31.2463301689\n"
     ]
    }
   ],
   "source": [
    "# Announce result on validation data\n",
    "\n",
    "dataTest=np.loadtxt('housing-val.txt')\n",
    "print(\"Best degree:\"+repr(best_param[1])+\", loss (sym) on val:\")\n",
    "print(symmLoss(degexpand(X_val, best_param[1], best_param[2])[0], best_param[0], y_val))"
   ]
  },
  {
   "cell_type": "markdown",
   "metadata": {},
   "source": [
    "We select the best model based on the validation loss. If we were to select based on train loss, we would (of course) select the most complex model since it has the highest capacity to fit the training data. here the differences between 2nd and 3rd degree models are tiny, but measurable.\n",
    "\n",
    "Now we want to repeat the experiment above but under the asymmetric loss function. Since there is no closed form solution, we will need to rely on gradient descent. First we need to implement the loss function and the gradient function."
   ]
  },
  {
   "cell_type": "code",
   "execution_count": 9,
   "metadata": {},
   "outputs": [],
   "source": [
    "def asymmLoss(X, w, y,alpha,_grad=False):\n",
    "    \"\"\"\n",
    "    Get the asymmetric loss given data X, weight w and ground truth y\n",
    "\n",
    "    Parameters\n",
    "    ----------\n",
    "    X : 2D array\n",
    "        N x d+1 design matrix (row per example)\n",
    "    w : 1D array\n",
    "        d+1 length vector\n",
    "    y : 1D array\n",
    "        Observed function values\n",
    "\n",
    "    Returns\n",
    "    -------\n",
    "    loss : a scalar\n",
    "        The loss calculated by equation in problem set 1\n",
    "    \"\"\"\n",
    "    N = X.shape[0]\n",
    "    yhat = np.dot(X, w)\n",
    "    weights=np.zeros([N,N])\n",
    "    for i in range(0,N):\n",
    "        if yhat[i] < y[i]:\n",
    "            weights[i][i] = alpha\n",
    "        else:\n",
    "            weights[i][i] = 1\n",
    "    loss = (np.dot(yhat-y,np.dot(weights,yhat-y))) / N\n",
    "    if _grad:\n",
    "        grad = 2*np.dot(X.transpose(),np.dot(weights,yhat-y)) / N\n",
    "        return loss, grad\n",
    "    else:\n",
    "        return loss\n",
    "    "
   ]
  },
  {
   "cell_type": "markdown",
   "metadata": {},
   "source": [
    "Test the loss and gradient function."
   ]
  },
  {
   "cell_type": "code",
   "execution_count": 10,
   "metadata": {},
   "outputs": [
    {
     "name": "stdout",
     "output_type": "stream",
     "text": [
      "expected output\n",
      "7.0\n",
      "[ -8 -26]\n",
      "function output:\n",
      "7.0\n",
      "[ -8. -26.]\n"
     ]
    }
   ],
   "source": [
    "loss, grad = asymmLoss(np.array([[1,2], [1, -3]]), np.array([1,1]), np.array([4, -4]),10,_grad=True)\n",
    "print(\"expected output\")\n",
    "print(\"7.0\")\n",
    "print(\"[ -8 -26]\")\n",
    "print(\"function output:\")\n",
    "print(loss)\n",
    "print(grad)\n"
   ]
  },
  {
   "cell_type": "markdown",
   "metadata": {},
   "source": [
    "Since we have had the functions to calculate loss and gradient, we can implement the gradient descent algorithm."
   ]
  },
  {
   "cell_type": "code",
   "execution_count": 11,
   "metadata": {},
   "outputs": [],
   "source": [
    "def gradDescent(X, y,alpha,tol=1e-4,maxIt=10000,checkit=1000,verbose=2,lr=0.01):\n",
    "    \"\"\"\n",
    "    Use gradient descent to min(loss(X, w, y))\n",
    "\n",
    "    Parameters\n",
    "    ----------\n",
    "    X : 2D array\n",
    "        N x d+1 design matrix (row per example)\n",
    "    y : 1D array\n",
    "        Observed function values\n",
    "    alpha : scalar\n",
    "        weight on positive errors in asymmetric loss\n",
    "    tol : scalar\n",
    "        tolerance on loss decrease (default 1e-4)\n",
    "    maxIt : scalar\n",
    "        max allowed number of iterations\n",
    "\n",
    "    Returns\n",
    "    -------\n",
    "    w : 1D array\n",
    "        d+1 length vector\n",
    "        \n",
    "    it: number of iterations until convergence\n",
    "    \"\"\"\n",
    "    # Random initialize the weight\n",
    "    w = np.random.randn(X.shape[1])\n",
    "    it = 0\n",
    "    lastloss = np.Inf\n",
    "    while True:\n",
    "        it += 1 # advance iteration count\n",
    "        loss, grad = asymmLoss(X, w, y,alpha,_grad=True) # eval. loss and compute gradient\n",
    "        \n",
    "        if it % checkit == 0:\n",
    "            converged = it >= maxIt or loss > lastloss-tol\n",
    "            lastloss = loss\n",
    "            if verbose==2 or verbose==1 and it % (10*checkit) == 0:\n",
    "                print('iter %d:  loss %.4f' %(it,loss))\n",
    "            if converged:\n",
    "                break\n",
    "            \n",
    "        w = w - lr * grad # update w (only if continuing updates)\n",
    "       \n",
    "        \n",
    "    return w, it"
   ]
  },
  {
   "cell_type": "markdown",
   "metadata": {},
   "source": [
    "Test gradient descent using any alpha and data generated by (random) noiseless linear model; we should recover the true w accurately (although possibly with less accuracy than the closed form solution for alpha=1)"
   ]
  },
  {
   "cell_type": "code",
   "execution_count": 12,
   "metadata": {},
   "outputs": [
    {
     "name": "stdout",
     "output_type": "stream",
     "text": [
      "true weight:array([ 0.33815234,  0.13241118])\n",
      "iter 1000:  loss 0.0000\n",
      "iter 2000:  loss 0.0000\n",
      "iter 3000:  loss 0.0000\n",
      "3000 iterations\n",
      "function output:array([ 0.33814172,  0.13243911])\n"
     ]
    }
   ],
   "source": [
    "X = np.hstack((np.ones([20,1]),np.random.random((20,1))))\n",
    "w = np.random.random((2))\n",
    "y = np.dot(X,w)\n",
    "print('true weight:'+repr(w))\n",
    "w_, it_ = gradDescent(X, y,10,maxIt=10000,tol=1e-6)\n",
    "print('%d iterations' %it_)\n",
    "print('function output:'+repr(w_))"
   ]
  },
  {
   "cell_type": "markdown",
   "metadata": {},
   "source": [
    "Now we can start testing the preformance of models using aymmetric loss."
   ]
  },
  {
   "cell_type": "code",
   "execution_count": 16,
   "metadata": {
    "scrolled": true
   },
   "outputs": [
    {
     "name": "stdout",
     "output_type": "stream",
     "text": [
      "degree 1:\n",
      "train loss 3.884467\n",
      "val loss 3.850933\n",
      "\n",
      "iter 10000:  loss 3.3923\n",
      "degree 2:\n",
      "train loss 3.391045\n",
      "val loss 3.400246\n",
      "\n",
      "iter 10000:  loss 3.4319\n",
      "iter 20000:  loss 3.4193\n",
      "iter 30000:  loss 3.4085\n",
      "iter 40000:  loss 3.3995\n",
      "iter 50000:  loss 3.3918\n",
      "degree 3:\n",
      "train loss 3.391786\n",
      "val loss 3.399450\n",
      "\n",
      "iter 10000:  loss 3.4420\n",
      "iter 20000:  loss 3.4127\n",
      "iter 30000:  loss 3.4001\n",
      "iter 40000:  loss 3.3927\n",
      "iter 50000:  loss 3.3869\n",
      "degree 5:\n",
      "train loss 3.386856\n",
      "val loss 3.411312\n",
      "\n"
     ]
    },
    {
     "data": {
      "image/png": "[encoded data removed]",
      "text/plain": [
       "<matplotlib.figure.Figure at 0x81c5358>"
      ]
     },
     "metadata": {},
     "output_type": "display_data"
    }
   ],
   "source": [
    "min_loss = np.Inf\n",
    "# Try degree 1 to 3\n",
    "plt.plot(X_train, y_train, '.')\n",
    "\n",
    "alpha=.05;\n",
    "\n",
    "for deg in[1,2,3,5]:\n",
    "    # Expand data first\n",
    "    X, C = degexpand(X_train, deg)\n",
    "    y = y_train\n",
    "        \n",
    "    # Run gradient descent\n",
    "    w, _ = gradDescent(X, y,alpha,maxIt=50000,checkit=1000,verbose=1,lr=1)\n",
    "    loss = asymmLoss(X, w, y,alpha)\n",
    "    val_loss = asymmLoss(degexpand(X_val, deg, C)[0], w, y_val,alpha)\n",
    "    \n",
    "    print('degree %d:' %(deg))\n",
    "    print('train loss %.6f' %(loss))\n",
    "    print('val loss %.6f\\n' %(val_loss))\n",
    "    \n",
    "\n",
    "    \n",
    "    if val_loss < min_loss:\n",
    "        min_loss = val_loss\n",
    "        best_param_asym = (w, deg, C)\n",
    "        \n",
    "    # Plot the function\n",
    "    color = {1:'b', 2:'g', 3:'r', 5:'c'}[deg]\n",
    "    plt.plot(np.linspace(min(X_train)-.1,max(X_train)+.1), np.dot(degexpand(np.linspace(min(X_train)-.1,max(X_train)+.1).reshape((50, 1)), deg, C)[0], w), color + '--')\n",
    "    \n"
   ]
  },
  {
   "cell_type": "code",
   "execution_count": 14,
   "metadata": {},
   "outputs": [
    {
     "name": "stdout",
     "output_type": "stream",
     "text": [
      "Best degree:3, loss (asym) on val:\n",
      "3.39970022591\n"
     ]
    }
   ],
   "source": [
    "# Announce result on validation data\n",
    "\n",
    "dataTest=np.loadtxt('housing-val.txt')\n",
    "print(\"Best degree:\"+repr(best_param[1])+\", loss (asym) on val:\")\n",
    "print(asymmLoss(degexpand(X_val, best_param_asym[1], best_param_asym[2])[0], best_param_asym[0], y_val,alpha))"
   ]
  },
  {
   "cell_type": "code",
   "execution_count": 15,
   "metadata": {},
   "outputs": [
    {
     "name": "stdout",
     "output_type": "stream",
     "text": [
      "Best degree (sym):3\n",
      "Asym loss: 10.9697\n",
      "Sym loss: 22.1586\n",
      "Log-likelihood (symmetric): -2.9681\n",
      "\n",
      "Best degree (asym):3\n",
      "Asym loss: 3.7285\n",
      "Sym loss: 48.7367\n",
      "Log-likelihood (symmetric): -3.3622\n",
      "\n"
     ]
    }
   ],
   "source": [
    "# Now measure results on test with asymmetric loss, for both models (one learned with sym loss and one learned with asym loss)\n",
    "\n",
    "dataTest=np.loadtxt('housing-test.txt')\n",
    "X_test=(dataTest[:,np.newaxis,0])\n",
    "y_test=dataTest[:,1]\n",
    "\n",
    "print(\"Best degree (sym):\"+repr(best_param[1]))\n",
    "print('Asym loss: %.4f' %asymmLoss(degexpand(X_test, best_param[1], best_param[2])[0], best_param[0], y_test,alpha))\n",
    "print('Sym loss: %.4f' %symmLoss(degexpand(X_test, best_param[1], best_param[2])[0], best_param[0], y_test))\n",
    "print('Log-likelihood (symmetric): %.4f\\n' %logLikelihood(degexpand(X_test, best_param[1], best_param[2])[0], best_param[0], y_test)[1])\n",
    "\n",
    "\n",
    "print(\"Best degree (asym):\"+repr(best_param_asym[1]))\n",
    "print('Asym loss: %.4f' %asymmLoss(degexpand(X_test, best_param_asym[1], best_param_asym[2])[0], best_param_asym[0], y_test,alpha))\n",
    "print('Sym loss: %.4f' %symmLoss(degexpand(X_test, best_param_asym[1], best_param_asym[2])[0], best_param_asym[0], y_test))\n",
    "print('Log-likelihood (symmetric): %.4f\\n' %logLikelihood(degexpand(X_test, best_param_asym[1], best_param_asym[2])[0], best_param_asym[0], y_test)[1])\n",
    "\n"
   ]
  },
  {
   "cell_type": "markdown",
   "metadata": {},
   "source": [
    "There are a few ways we could \"compare the models\" obtained under the two loss functions. \n",
    "\n",
    "1) compare the loss values (on val) using, for each model, the loss with which it was trained. This does not make sense because the two loss functions are not, strictly speaking, measured in the same units. Choice of the loss is driven by considerations outside of the learning setup (e.g., actual cost of different types of erros) and we can not objectively compare them within the learning setup.\n",
    "\n",
    "2) compare the models using symmetric loss. Here of course the first model (quadratic trained with symloss) wins. However, we know that this loss is not what we want.\n",
    "\n",
    "3) compare the models using asymmetric loss. This is arguably the best comparison, and here we see that the model trained with asymmetric loss wins by a significant margin. That's not particularly surprising, and the main lesson here is that the model trained with the loss which is a better match for the real objective will generally attain better performance under that objective. \n",
    "\n",
    "4) compare the log-likelihood of each model on the data, under each of the models. We can not do it here since we have not derived the noise model corresponding to the asymmetric loss (i.e., under which the ML estimate is equivalent to the asymmetric loss iminimizer). But if we did, we might see that the symmetric model achieves higher likelihood. This indicates that the symmetric model is a better <b>explanation</b> of the data -- but of course this is besides the point if our application suggests that asymmetric loss is more appropriate. This emphasizes the distinction between choice of loss, dicated by task at hand, and model of the data that may explain it best."
   ]
  }
 ],
 "metadata": {
  "anaconda-cloud": {},
  "kernelspec": {
   "display_name": "Python 3",
   "language": "python",
   "name": "python3"
  },
  "language_info": {
   "codemirror_mode": {
    "name": "ipython",
    "version": 3
   },
   "file_extension": ".py",
   "mimetype": "text/x-python",
   "name": "python",
   "nbconvert_exporter": "python",
   "pygments_lexer": "ipython3",
   "version": "3.6.2"
  }
 },
 "nbformat": 4,
 "nbformat_minor": 1
}
