{
 "cells": [
  {
   "cell_type": "code",
   "execution_count": 2,
   "metadata": {
    "collapsed": true
   },
   "outputs": [],
   "source": [
    "from __future__ import absolute_import\n",
    "from __future__ import division\n",
    "from __future__ import print_function\n",
    "\n",
    "from utils import *\n",
    "\n",
    "import numpy as np\n",
    "import cvxopt\n",
    "%matplotlib inline"
   ]
  },
  {
   "cell_type": "code",
   "execution_count": 3,
   "metadata": {},
   "outputs": [
    {
     "name": "stdout",
     "output_type": "stream",
     "text": [
      "Feature size:  1464\n"
     ]
    }
   ],
   "source": [
    "\"\"\"\n",
    "Get the preprocessed data:\n",
    "X and y are dicts, has keys train, val and test. keys gives you what word (or pair of words) each dimension corresponds to.\n",
    "\n",
    "You can also get bigram features if you call preprocess(bigram = True)`\n",
    "\n",
    "\"\"\"\n",
    "\n",
    "X, y, keys = preprocess()"
   ]
  },
  {
   "cell_type": "code",
   "execution_count": 4,
   "metadata": {
    "collapsed": true
   },
   "outputs": [],
   "source": [
    "class Kernel(object):\n",
    "    \"\"\"\n",
    "    A class containing all kinds of kernels.\n",
    "    Note: the kernel should work for both input (Matrix, vector) and (vector, vector)\n",
    "    \"\"\"\n",
    "    @staticmethod\n",
    "    def linear():\n",
    "        def f(x, y):\n",
    "            return np.dot(x, y)\n",
    "        return f\n",
    "\n",
    "    @staticmethod\n",
    "    def gaussian(gamma):\n",
    "        def f(x, y):\n",
    "            exponent = - gamma * np.linalg.norm((x-y).transpose(), 2, 0) ** 2\n",
    "            return np.exp(exponent)\n",
    "        return f\n",
    "\n",
    "    @staticmethod\n",
    "    def _poly(dimension, offset):\n",
    "        def f(x, y):\n",
    "            return (offset + np.dot(x, y)) ** dimension\n",
    "        return f\n",
    "\n",
    "    @staticmethod\n",
    "    def inhomogenous_polynomial(dimension):\n",
    "        return Kernel._poly(dimension=dimension, offset=1.0)\n",
    "\n",
    "    @staticmethod\n",
    "    def homogenous_polynomial(dimension):\n",
    "        return Kernel._poly(dimension=dimension, offset=0.0)\n",
    "\n",
    "    @staticmethod\n",
    "    def hyperbolic_tangent(kappa, c):\n",
    "        def f(x, y):\n",
    "            return np.tanh(kappa * np.dot(x, y) + c)\n",
    "        return f"
   ]
  },
  {
   "cell_type": "code",
   "execution_count": 5,
   "metadata": {
    "collapsed": true
   },
   "outputs": [],
   "source": [
    "class SVM(object):\n",
    "    def __init__(self, kernel, c):\n",
    "        \"\"\"\n",
    "        Build a SVM given kernel function and C\n",
    "\n",
    "        Parameters\n",
    "        ----------\n",
    "        kernel : function\n",
    "            a function takes input (Matrix, vector) or (vector, vector)\n",
    "        c : a scalar\n",
    "            balance term\n",
    "\n",
    "        Returns\n",
    "        -------\n",
    "        \"\"\"\n",
    "        self._kernel = kernel\n",
    "        self._c = c\n",
    "\n",
    "    def fit(self, X, y):\n",
    "        \"\"\"\n",
    "        Fit the model given data X and ground truth label y\n",
    "\n",
    "        Parameters\n",
    "        ----------\n",
    "        X : 2D array\n",
    "            N x d data matrix (row per example)\n",
    "        y : 1D array\n",
    "            class label\n",
    "\n",
    "        Returns\n",
    "        -------\n",
    "        \"\"\"\n",
    "        # Solve the QP problem to get the multipliers\n",
    "        lagrange_multipliers = self._compute_multipliers(X, y)\n",
    "        # Get all the support vectors, support weights and bias\n",
    "        self._construct_predictor(X, y, lagrange_multipliers)\n",
    "    \n",
    "    def predict(self, X):\n",
    "        \"\"\"\n",
    "        Predict the label given data X\n",
    "\n",
    "        Parameters\n",
    "        ----------\n",
    "        X : 2D array\n",
    "            N x d data matrix (row per example)\n",
    "\n",
    "        Returns\n",
    "        -------\n",
    "        y : 1D array\n",
    "            predicted label\n",
    "        \"\"\"\n",
    "        result = np.full(X.shape[0], self._bias)\n",
    "        for z_i, x_i, y_i in zip(self._weights,\n",
    "                                 self._support_vectors,\n",
    "                                 self._support_vector_labels):\n",
    "            result += z_i * y_i * self._kernel(X, x_i)\n",
    "        return np.sign(result)\n",
    "\n",
    "    def _kernel_matrix(self, X):\n",
    "        \"\"\"\n",
    "        Get the kernel matrix.\n",
    "\n",
    "        Parameters\n",
    "        ----------\n",
    "        X : 2D array\n",
    "            N x d data matrix (row per example)\n",
    "\n",
    "        Returns\n",
    "        -------\n",
    "        K : 2D array\n",
    "            N x N kernel matrix\n",
    "        \"\"\"\n",
    "        N, d = X.shape\n",
    "        K = np.zeros((N, N))\n",
    "        for i, x_i in enumerate(X):\n",
    "            for j, x_j in enumerate(X):\n",
    "                K[i, j] = self._kernel(x_i, x_j)\n",
    "        return K\n",
    "\n",
    "    def _construct_predictor(self, X, y, lagrange_multipliers):\n",
    "        \"\"\"\n",
    "        Given the data, label and the multipliers, extract the support vectors and calculate the bias\n",
    "\n",
    "        Parameters\n",
    "        ----------\n",
    "        X : 2D array\n",
    "            N x d data matrix (row per example)\n",
    "        y : 1D array\n",
    "            class label\n",
    "        lagrange_multipliers: 1D array\n",
    "            the solution of lagrange_multiplier\n",
    "\n",
    "        Returns\n",
    "        -------\n",
    "        \"\"\"\n",
    "        support_vector_indices = \\\n",
    "            lagrange_multipliers > 1e-5\n",
    "            \n",
    "        print(\"SV number: \", np.sum(support_vector_indices))\n",
    "\n",
    "        support_multipliers = lagrange_multipliers[support_vector_indices]\n",
    "        support_vectors = X[support_vector_indices]\n",
    "        support_vector_labels = y[support_vector_indices]\n",
    "\n",
    "        \"\"\"\n",
    "        Get the bias term\n",
    "        \"\"\"\n",
    "        bias = 0\n",
    "        for k in range(support_multipliers.shape[0]):\n",
    "            if support_multipliers[k] < self._c:\n",
    "                bias = support_vector_labels[k]\n",
    "                for (w_i, y_i, x_i) in zip(support_multipliers, support_vector_labels, support_vectors):\n",
    "                    bias = bias - w_i * y_i * self._kernel(support_vectors[k], x_i)\n",
    "                break\n",
    "\n",
    "        self._bias=bias\n",
    "        self._weights=support_multipliers\n",
    "        self._support_vectors=support_vectors\n",
    "        self._support_vector_labels=support_vector_labels\n",
    "\n",
    "    def _compute_multipliers(self, X, y):\n",
    "        \"\"\"\n",
    "        Given the data, label, solve the QP program to get lagrange multiplier.\n",
    "\n",
    "        Parameters\n",
    "        ----------\n",
    "        X : 2D array\n",
    "            N x d data matrix (row per example)\n",
    "        y : 1D array\n",
    "            class label\n",
    "\n",
    "        Returns\n",
    "        lagrange_multipliers: 1D array\n",
    "        -------\n",
    "        \"\"\"\n",
    "        N, d = X.shape\n",
    "\n",
    "        K = self._kernel_matrix(X)\n",
    "        \"\"\"\n",
    "        The standard QP solver formulation:\n",
    "        min 1/2 x^T P x + q^T x\n",
    "        s.t.\n",
    "        Gx \\coneleq h\n",
    "        Ax = b\n",
    "        \"\"\"\n",
    "        P = cvxopt.matrix(np.outer(y, y) * K)\n",
    "        q = cvxopt.matrix(-1 * np.ones(N))\n",
    "\n",
    "        # -a_i \\leq 0\n",
    "        G_std = cvxopt.matrix(np.diag(np.ones(N) * -1))\n",
    "        h_std = cvxopt.matrix(np.zeros(N))\n",
    "\n",
    "        # a_i \\leq c\n",
    "        G_slack = cvxopt.matrix(np.diag(np.ones(N)))\n",
    "        h_slack = cvxopt.matrix(np.ones(N) * self._c)\n",
    "\n",
    "        G = cvxopt.matrix(np.vstack((G_std, G_slack)))\n",
    "        h = cvxopt.matrix(np.vstack((h_std, h_slack)))\n",
    "\n",
    "        A = cvxopt.matrix(y, (1, N))\n",
    "        b = cvxopt.matrix(0.0)\n",
    "\n",
    "        solution = cvxopt.solvers.qp(P, q, G, h, A, b)\n",
    "\n",
    "        # Lagrange multipliers\n",
    "        return np.ravel(solution['x'])"
   ]
  },
  {
   "cell_type": "markdown",
   "metadata": {},
   "source": [
    "The following code would generate data which the ground truth split is x+y = 0.5."
   ]
  },
  {
   "cell_type": "code",
   "execution_count": 6,
   "metadata": {},
   "outputs": [
    {
     "name": "stdout",
     "output_type": "stream",
     "text": [
      "     pcost       dcost       gap    pres   dres\n",
      " 0:  4.4475e+03 -5.6695e+05  1e+06  6e-01  4e-14\n",
      " 1:  1.5207e+04 -1.0902e+05  2e+05  3e-02  8e-14\n",
      " 2:  5.2509e+03 -1.3336e+04  2e+04  3e-03  6e-14\n",
      " 3:  8.0708e+02 -1.9500e+03  3e+03  1e-04  2e-14\n",
      " 4:  3.1874e+02 -1.5220e+03  2e+03  6e-05  2e-14\n",
      " 5: -1.5586e+02 -8.5598e+02  7e+02  8e-15  2e-14\n",
      " 6: -2.7235e+02 -6.5209e+02  4e+02  6e-14  2e-14\n",
      " 7: -3.5622e+02 -5.7839e+02  2e+02  8e-14  2e-14\n",
      " 8: -3.6008e+02 -5.3298e+02  2e+02  2e-14  2e-14\n",
      " 9: -4.1222e+02 -4.5078e+02  4e+01  3e-14  2e-14\n",
      "10: -4.2783e+02 -4.3038e+02  3e+00  2e-14  2e-14\n",
      "11: -4.2895e+02 -4.2897e+02  3e-02  6e-14  2e-14\n",
      "12: -4.2896e+02 -4.2896e+02  3e-04  5e-14  2e-14\n",
      "Optimal solution found.\n",
      "SV number:  7\n"
     ]
    },
    {
     "data": {
      "image/png": "[encoded data removed]",
      "text/plain": [
       "<matplotlib.figure.Figure at 0x1042d35c0>"
      ]
     },
     "metadata": {},
     "output_type": "display_data"
    }
   ],
   "source": [
    "clf = SVM(Kernel.linear(), 100)\n",
    "test_linear_SVM(clf, 100)"
   ]
  },
  {
   "cell_type": "code",
   "execution_count": 7,
   "metadata": {},
   "outputs": [
    {
     "name": "stdout",
     "output_type": "stream",
     "text": [
      "     pcost       dcost       gap    pres   dres\n",
      " 0:  3.2990e+04 -3.7326e+05  5e+05  2e-01  4e-14\n",
      " 1:  1.6953e+04 -3.6697e+04  6e+04  1e-02  6e-14\n",
      " 2:  3.2827e+03 -5.9617e+03  9e+03  8e-04  2e-14\n",
      " 3:  6.0830e+02 -1.6421e+03  2e+03  1e-04  1e-14\n",
      " 4:  1.7992e+02 -1.2288e+03  1e+03  7e-05  1e-14\n",
      " 5: -1.1615e+02 -7.6608e+02  7e+02  3e-05  1e-14\n",
      " 6: -3.0991e+02 -5.6617e+02  3e+02  1e-05  2e-14\n",
      " 7: -3.8122e+02 -5.0029e+02  1e+02  5e-07  2e-14\n",
      " 8: -4.2512e+02 -4.4086e+02  2e+01  4e-08  2e-14\n",
      " 9: -4.3169e+02 -4.3197e+02  3e-01  3e-10  2e-14\n",
      "10: -4.3181e+02 -4.3182e+02  3e-03  3e-12  2e-14\n",
      "11: -4.3182e+02 -4.3182e+02  3e-05  3e-14  2e-14\n",
      "Optimal solution found.\n",
      "SV number:  13\n"
     ]
    },
    {
     "data": {
      "image/png": "[encoded data removed]",
      "text/plain": [
       "<matplotlib.figure.Figure at 0x1025fcc18>"
      ]
     },
     "metadata": {},
     "output_type": "display_data"
    }
   ],
   "source": [
    "clf = SVM(Kernel.gaussian(1), 100)\n",
    "test_rbf_SVM(clf, 100)"
   ]
  },
  {
   "cell_type": "code",
   "execution_count": 8,
   "metadata": {},
   "outputs": [
    {
     "name": "stdout",
     "output_type": "stream",
     "text": [
      "SV number:  2052\n",
      "C =  0.01\n",
      "Acc on train:  0.726486486486\n",
      "Acc on val:  0.7\n",
      "SV number:  1641\n",
      "C =  0.1\n",
      "Acc on train:  0.890810810811\n",
      "Acc on val:  0.734\n",
      "SV number:  1268\n",
      "C =  1\n",
      "Acc on train:  0.956756756757\n",
      "Acc on val:  0.724\n",
      "SV number:  1040\n",
      "C =  10\n",
      "Acc on train:  0.995675675676\n",
      "Acc on val:  0.71\n"
     ]
    }
   ],
   "source": [
    "cvxopt.solvers.options['show_progress'] = False \n",
    "\n",
    "for C in [0.01, 0.1, 1, 10]:\n",
    "    clf = SVM(Kernel.linear(), C)\n",
    "    clf.fit(X['train'], y['train'].astype('double'))\n",
    "    print(\"C = \", C)\n",
    "    y_hat = clf.predict(X['train'])\n",
    "    print(\"Acc on train: \", np.mean(y_hat == y['train']))\n",
    "    y_hat = clf.predict(X['val'])\n",
    "    print(\"Acc on val: \", np.mean(y_hat == y['val']))"
   ]
  },
  {
   "cell_type": "code",
   "execution_count": 9,
   "metadata": {},
   "outputs": [
    {
     "name": "stdout",
     "output_type": "stream",
     "text": [
      "SV number:  2090\n",
      "C =  0.01\n",
      "(scaled) Acc on train:  0.636396396396\n",
      "(scaled) Acc on val:  0.67\n",
      "SV number:  2090\n",
      "C =  0.1\n",
      "(scaled) Acc on train:  0.667027027027\n",
      "(scaled) Acc on val:  0.678\n",
      "SV number:  1732\n",
      "C =  1\n",
      "(scaled) Acc on train:  0.869189189189\n",
      "(scaled) Acc on val:  0.736\n",
      "SV number:  1313\n",
      "C =  10\n",
      "(scaled) Acc on train:  0.948108108108\n",
      "(scaled) Acc on val:  0.714\n"
     ]
    }
   ],
   "source": [
    "Xscale=dict()\n",
    "Xscale['train']=scaleX(X['train'])\n",
    "Xscale['val']=scaleX(X['val'])\n",
    "\n",
    "for C in [0.01, 0.1, 1, 10]:\n",
    "    clf = SVM(Kernel.linear(), C)\n",
    "    clf.fit(Xscale['train'], y['train'].astype('double'))\n",
    "    print(\"C = \", C)\n",
    "    y_hat = clf.predict(Xscale['train'])\n",
    "    print(\"(scaled) Acc on train: \", np.mean(y_hat == y['train']))\n",
    "    y_hat = clf.predict(Xscale['val'])\n",
    "    print(\"(scaled) Acc on val: \", np.mean(y_hat == y['val']))"
   ]
  },
  {
   "cell_type": "code",
   "execution_count": 10,
   "metadata": {},
   "outputs": [
    {
     "name": "stdout",
     "output_type": "stream",
     "text": [
      "SV number:  1870\n",
      "C =  0.5\n",
      "(scaled) Acc on train:  0.84\n",
      "(scaled) Acc on val:  0.732\n",
      "SV number:  1441\n",
      "C =  5\n",
      "(scaled) Acc on train:  0.93045045045\n",
      "(scaled) Acc on val:  0.726\n"
     ]
    }
   ],
   "source": [
    "for C in [0.5, 5]:\n",
    "    clf = SVM(Kernel.linear(), C)\n",
    "    clf.fit(Xscale['train'], y['train'].astype('double'))\n",
    "    print(\"C = \", C)\n",
    "    y_hat = clf.predict(Xscale['train'])\n",
    "    print(\"(scaled) Acc on train: \", np.mean(y_hat == y['train']))\n",
    "    y_hat = clf.predict(Xscale['val'])\n",
    "    print(\"(scaled) Acc on val: \", np.mean(y_hat == y['val']))"
   ]
  },
  {
   "cell_type": "markdown",
   "metadata": {},
   "source": [
    "Choose the best C, and predict the label for test data."
   ]
  },
  {
   "cell_type": "code",
   "execution_count": null,
   "metadata": {},
   "outputs": [
    {
     "name": "stdout",
     "output_type": "stream",
     "text": [
      "SV number:  1641\n",
      "0.3\n"
     ]
    }
   ],
   "source": [
    "C = 0.1\n",
    "clf = SVM(Kernel.linear(), C)\n",
    "clf.fit(X['train'], y['train'].astype('double'))\n",
    "y_hat = clf.predict(X['test'])\n",
    "save_submission('sub_linear.csv', y_hat)\n",
    "print(np.mean(y_hat == y['test']))"
   ]
  },
  {
   "cell_type": "markdown",
   "metadata": {},
   "source": [
    "RBF kernel SVM"
   ]
  },
  {
   "cell_type": "code",
   "execution_count": null,
   "metadata": {},
   "outputs": [
    {
     "name": "stdout",
     "output_type": "stream",
     "text": [
      "SV number:  2775\n",
      "C =  0.1\n",
      "gamma =  5\n",
      "(scaled) Acc on train:  0.636396396396\n",
      "(scaled) Acc on val:  0.67\n",
      "SV number:  2239\n",
      "C =  0.1\n",
      "gamma =  1\n",
      "(scaled) Acc on train:  0.636396396396\n",
      "(scaled) Acc on val:  0.67\n",
      "SV number:  2188\n",
      "C =  0.1\n",
      "gamma =  0.75\n",
      "(scaled) Acc on train:  0.636396396396\n",
      "(scaled) Acc on val:  0.67\n",
      "SV number:  2134\n",
      "C =  0.1\n",
      "gamma =  0.5\n",
      "(scaled) Acc on train:  0.636396396396\n",
      "(scaled) Acc on val:  0.67\n",
      "SV number:  2108\n",
      "C =  0.1\n",
      "gamma =  0.25\n",
      "(scaled) Acc on train:  0.636396396396\n",
      "(scaled) Acc on val:  0.67\n",
      "SV number:  2096\n",
      "C =  0.1\n",
      "gamma =  0.1\n",
      "(scaled) Acc on train:  0.636396396396\n",
      "(scaled) Acc on val:  0.67\n",
      "SV number:  2775\n",
      "C =  0.5\n",
      "gamma =  5\n",
      "(scaled) Acc on train:  0.637837837838\n",
      "(scaled) Acc on val:  0.67\n",
      "SV number:  2198\n",
      "C =  0.5\n",
      "gamma =  1\n",
      "(scaled) Acc on train:  0.878558558559\n",
      "(scaled) Acc on val:  0.722\n",
      "SV number:  2130\n",
      "C =  0.5\n",
      "gamma =  0.75\n"
     ]
    }
   ],
   "source": [
    "for C in [0.1, 0.5, 1, 5, 10]:\n",
    "    for gamma in [5, 1, 0.75, 0.5, 0.25, 0.1]:\n",
    "        clf = SVM(Kernel.gaussian(gamma), C)\n",
    "        clf.fit(Xscale['train'], y['train'].astype('double'))\n",
    "        print(\"C = \", C)\n",
    "        print(\"gamma = \", gamma)\n",
    "        y_hat = clf.predict(Xscale['train'])\n",
    "        print(\"(scaled) Acc on train: \", np.mean(y_hat == y['train']))\n",
    "        y_hat = clf.predict(Xscale['val'])\n",
    "        print(\"(scaled) Acc on val: \", np.mean(y_hat == y['val']))\n",
    "        "
   ]
  },
  {
   "cell_type": "code",
   "execution_count": null,
   "metadata": {
    "collapsed": true
   },
   "outputs": [],
   "source": [
    "clf = SVM(Kernel.gaussian(1), 1)\n",
    "clf.fit(Xscale['train'], y['train'].astype('double'))\n",
    "y_hat = clf.predict(X['test'])\n",
    "save_submission('sub.csv', y_hat)\n",
    "print(np.mean(y_hat == y['test']))"
   ]
  },
  {
   "cell_type": "markdown",
   "metadata": {},
   "source": [
    "Polynomial Kernel:"
   ]
  },
  {
   "cell_type": "code",
   "execution_count": null,
   "metadata": {
    "collapsed": true
   },
   "outputs": [],
   "source": [
    "for C in [0.05]:\n",
    "    clf = SVM(Kernel.inhomogenous_polynomial(2), C)\n",
    "    clf.fit(Xscale['train'], y['train'].astype('double'))\n",
    "    y_hat = clf.predict(Xscale['train'])\n",
    "    print(\"Acc on train: \", np.mean(y_hat == y['train']))\n",
    "    y_hat = clf.predict(Xscale['val'])\n",
    "    print(\"Acc on val: \", np.mean(y_hat == y['val']))"
   ]
  },
  {
   "cell_type": "code",
   "execution_count": null,
   "metadata": {
    "collapsed": true
   },
   "outputs": [],
   "source": [
    "for C in [0.01]:\n",
    "    clf = SVM(Kernel.inhomogenous_polynomial(3), C)\n",
    "    clf.fit(Xscale['train'], y['train'].astype('double'))\n",
    "    y_hat = clf.predict(Xscale['train'])\n",
    "    print(\"Acc on train: \", np.mean(y_hat == y['train']))\n",
    "    y_hat = clf.predict(Xscale['val'])\n",
    "    print(\"Acc on val: \", np.mean(y_hat == y['val']))"
   ]
  }
 ],
 "metadata": {
  "anaconda-cloud": {},
  "kernelspec": {
   "display_name": "Python 3",
   "language": "python",
   "name": "python3"
  },
  "language_info": {
   "codemirror_mode": {
    "name": "ipython",
    "version": 3
   },
   "file_extension": ".py",
   "mimetype": "text/x-python",
   "name": "python",
   "nbconvert_exporter": "python",
   "pygments_lexer": "ipython3",
   "version": "3.6.2"
  }
 },
 "nbformat": 4,
 "nbformat_minor": 1
}
